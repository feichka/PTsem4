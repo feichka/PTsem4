{
 "cells": [
  {
   "cell_type": "code",
   "execution_count": 99,
   "id": "926856ca",
   "metadata": {},
   "outputs": [],
   "source": [
    "import pandas as pd\n",
    "import numpy as np\n",
    "from scipy import stats\n",
    "import matplotlib as mp\n",
    "from matplotlib import pyplot as plt"
   ]
  },
  {
   "cell_type": "code",
   "execution_count": 1,
   "id": "1b9a40c6",
   "metadata": {},
   "outputs": [
    {
     "name": "stdout",
     "output_type": "stream",
     "text": [
      "500.0\n",
      "30000.0\n"
     ]
    }
   ],
   "source": [
    "# Случайная непрерывная величина A имеет равномерное распределение на\n",
    "# промежутке (200, 800].\n",
    "# Найдите ее среднее значение и дисперсию.\n",
    "\n",
    "a = 200\n",
    "b = 800\n",
    "mu = (a+b)/2\n",
    "var = (b-a)**2/12\n",
    "print(mu)\n",
    "print(var)"
   ]
  },
  {
   "cell_type": "code",
   "execution_count": 130,
   "id": "00128770",
   "metadata": {},
   "outputs": [
    {
     "name": "stdout",
     "output_type": "stream",
     "text": [
      "Правая граница равна 2.049\n",
      "Среднее значение равно 1.275\n"
     ]
    }
   ],
   "source": [
    "# О случайной непрерывной равномерно распределенной величине B известно, что ее дисперсия равна 0.2.\n",
    "# Можно ли найти правую границу величины B и ее среднее значение зная, что левая граница равна 0.5?\n",
    "# Если да, найдите ее.\n",
    "\n",
    "import statistics as st\n",
    "var = 0.2\n",
    "a = 0.5\n",
    "b = ((12*0.2)**0.5)+0.5\n",
    "print(f'Правая граница равна {round(b,3)}')\n",
    "mu = (a+b)/2\n",
    "print(f'Среднее значение равно {round(mu,3)}')"
   ]
  },
  {
   "cell_type": "code",
   "execution_count": 134,
   "id": "d35c7005",
   "metadata": {},
   "outputs": [
    {
     "name": "stdout",
     "output_type": "stream",
     "text": [
      "Среднее квадратное отклонение:4, среднее значение: -2, дисперсия: 16\n"
     ]
    }
   ],
   "source": [
    "# Непрерывная случайная величина X распределена нормально и задана плотностью\n",
    "# распределения\n",
    "# f(x) = (1 / (4 * sqrt(2pi))) * exp((-(x+2)**2) / 32)\n",
    "# Найдите:\n",
    "# а). M(X)\n",
    "# б). D(X)\n",
    "# в). std(X) (среднее квадратичное отклонение)\n",
    "\n",
    "sdt = 4\n",
    "M = -2\n",
    "D = 16\n",
    "print(f'Среднее квадратное отклонение:{sdt}, среднее значение: {M}, дисперсия: {D}')"
   ]
  },
  {
   "cell_type": "code",
   "execution_count": 127,
   "id": "09b7a757",
   "metadata": {},
   "outputs": [
    {
     "name": "stdout",
     "output_type": "stream",
     "text": [
      "больше 182 см: 0.159\n",
      "больше 190 см: 0.023\n",
      "от 166 см до 190 см: 0.819\n",
      "от 166 см до 182 см: 0.683\n",
      "от 158 см до 190 см: 0.954\n",
      "не выше 150 см или не ниже 190 см: 0.024\n",
      "не выше 150 см или не ниже 198 см: 0.003\n",
      "ниже 166 см: 0.159\n"
     ]
    }
   ],
   "source": [
    "# Рост взрослого населения города X имеет нормальное распределение, \n",
    "# причем, средний рост равен 174 см, а среднее квадратическое отклонение \n",
    "# равно 8 см. посчитайте, какова вероятность того, \n",
    "# что случайным образом выбранный взрослый человек имеет рост:\n",
    "# 1. больше 182 см?\n",
    "# 2. больше 190 см?\n",
    "# 3. от 166 см до 190 см?\n",
    "# 4. от 166 см до 182 см?\n",
    "# 5. от 158 см до 190 см?\n",
    "# 6. не выше 150 см или не ниже 190 см?\n",
    "# 7. не выше 150 см или не ниже 198 см?\n",
    "# 8. ниже 166 см?\n",
    "#\n",
    "# Задачу можно решить двумя способами: \n",
    "# без использования сторонних библиотек (numpy, scipy, pandas и пр.), \n",
    "# а затем проверить себя с помощью встроенных функций\n",
    "\n",
    "loc = 174\n",
    "scale = 8\n",
    "z1 = (182-174)/8 # 1\n",
    "p1 = 1 - 0.84134 # 0.15866000000000002\n",
    "a1 = 1 - stats.norm.cdf(182, loc, scale) # 0.15865525393145707\n",
    "print(f'больше 182 см: {round(a1,3)}')\n",
    "z2 = (190-174)/8 #2\n",
    "p2 = 1 - 0.97725  # 0.022750000000000048\n",
    "a2 = 1 - stats.norm.cdf(190, loc, scale) # 0.02275013194817921\n",
    "print(f'больше 190 см: {round(a2,3)}')\n",
    "z3 = (166-174)/8 # -1\n",
    "p3 = 0.97725-0.15866 # 0.8185899999999999\n",
    "a3 = stats.norm.cdf(190, loc, scale) - stats.norm.cdf(166, loc, scale) # 0.8185946141203637\n",
    "print(f'от 166 см до 190 см: {round(a3,3)}')\n",
    "p4 = 0.84134 - 0.15866 # 0.68268\n",
    "a4 = stats.norm.cdf(182, loc, scale) - stats.norm.cdf(166, loc, scale) # 0.6826894921370859\n",
    "print(f'от 166 см до 182 см: {round(a4,3)}')\n",
    "z5 = (158-174)/8 # -2\n",
    "p5 = 0.97725 - 0.02275 # 0.9544999999999999\n",
    "a5 = stats.norm.cdf(190, loc, scale) - stats.norm.cdf(158, loc, scale) # 0.0.9544997361036416\n",
    "print(f'от 158 см до 190 см: {round(a5,3)}')\n",
    "z6 = (150-174)/8 # -3\n",
    "p6 =  0.00135 + (1 - 0.97725) # 0.02410000000000005\n",
    "a6 = stats.norm.cdf(150, loc, scale) + (1- stats.norm.cdf(190, loc, scale)) # 0.0241000299798093\n",
    "print(f'не выше 150 см или не ниже 190 см: {round(a6,3)}')\n",
    "z7 = (198-174)/8 # 3\n",
    "p7 = 0.00135 + (1 - 0.99865) # 0.0026999999999999624\n",
    "a7 = stats.norm.cdf(150, loc, scale) + (1- stats.norm.cdf(198, loc, scale)) # 0.0026997960632601965\n",
    "print(f'не выше 150 см или не ниже 198 см: {round(a7,3)}')\n",
    "z8 = (166-174)/8 # -1\n",
    "p8 = 0.15866 # p8 = 0.15866\n",
    "a8 = stats.norm.cdf(166, loc, scale) # 0.15865525393145707\n",
    "print(f'ниже 166 см: {round(a8,3)}')\n",
    "\n"
   ]
  },
  {
   "cell_type": "code",
   "execution_count": 129,
   "id": "48f1511b",
   "metadata": {},
   "outputs": [
    {
     "name": "stdout",
     "output_type": "stream",
     "text": [
      "На 2.4 сигм\n"
     ]
    }
   ],
   "source": [
    "# На сколько сигм (средних квадратичных отклонений) отклоняется рост человека,\n",
    "# равный 190 см, от математического ожидания роста в популяции, \n",
    "#в которой M(X) = 178 см и D(X) = 25 кв.см?\n",
    "\n",
    "x = 190\n",
    "loc = 178\n",
    "var = 25\n",
    "sdt = 5\n",
    "z = (190-178)/5\n",
    "print(f'На {z} сигм')"
   ]
  },
  {
   "cell_type": "code",
   "execution_count": 139,
   "id": "39f219ef",
   "metadata": {},
   "outputs": [
    {
     "data": {
      "image/png": "[encoded data removed]",
      "text/plain": [
       "<Figure size 640x480 with 1 Axes>"
      ]
     },
     "metadata": {},
     "output_type": "display_data"
    }
   ],
   "source": [
    "# Даны значения зарплат из выборки выпускников:\n",
    "#\n",
    "# 100, 80, 75, 77, 89, 33, 45, 25, 65, 17, 30, 24, 57, 55, 70, 75, 65, 84, 90, 150.\n",
    "#\n",
    "# построить гитограмму распределения, подобрав лучший параметр bins,\n",
    "# Найти выборсы в выборке, используя для этого \"усы\" из boxplot.\n",
    "# найти первый и третий квартили, интерквартильное расстояние.\n",
    "\n",
    "x = [100, 80, 75, 77, 89, 33, 45, 25, 65, 17, 30, 24, 57, 55, 70, 75, 65, 84, 90, 150]\n",
    "plt.hist(x, bins = 10)\n",
    "plt.show()\n",
    "\n"
   ]
  },
  {
   "cell_type": "code",
   "execution_count": 82,
   "id": "b5e33a40",
   "metadata": {},
   "outputs": [
    {
     "data": {
      "text/plain": [
       "{'whiskers': [<matplotlib.lines.Line2D at 0x2671a621f70>,\n",
       "  <matplotlib.lines.Line2D at 0x2671a6214c0>],\n",
       " 'caps': [<matplotlib.lines.Line2D at 0x2671a621e20>,\n",
       "  <matplotlib.lines.Line2D at 0x2671a621190>],\n",
       " 'boxes': [<matplotlib.lines.Line2D at 0x26719c1a430>],\n",
       " 'medians': [<matplotlib.lines.Line2D at 0x2671a621880>],\n",
       " 'fliers': [<matplotlib.lines.Line2D at 0x2671a621d90>],\n",
       " 'means': []}"
      ]
     },
     "execution_count": 82,
     "metadata": {},
     "output_type": "execute_result"
    },
    {
     "data": {
      "image/png": "[encoded data removed]",
      "text/plain": [
       "<Figure size 640x480 with 1 Axes>"
      ]
     },
     "metadata": {},
     "output_type": "display_data"
    }
   ],
   "source": [
    "plt.boxplot(x)"
   ]
  },
  {
   "cell_type": "code",
   "execution_count": 113,
   "id": "0075cbc6",
   "metadata": {},
   "outputs": [
    {
     "data": {
      "text/html": [
       "<div>\n",
       "<style scoped>\n",
       "    .dataframe tbody tr th:only-of-type {\n",
       "        vertical-align: middle;\n",
       "    }\n",
       "\n",
       "    .dataframe tbody tr th {\n",
       "        vertical-align: top;\n",
       "    }\n",
       "\n",
       "    .dataframe thead th {\n",
       "        text-align: right;\n",
       "    }\n",
       "</style>\n",
       "<table border=\"1\" class=\"dataframe\">\n",
       "  <thead>\n",
       "    <tr style=\"text-align: right;\">\n",
       "      <th></th>\n",
       "      <th>0</th>\n",
       "    </tr>\n",
       "  </thead>\n",
       "  <tbody>\n",
       "    <tr>\n",
       "      <th>0.25</th>\n",
       "      <td>42.0</td>\n",
       "    </tr>\n",
       "    <tr>\n",
       "      <th>0.50</th>\n",
       "      <td>67.5</td>\n",
       "    </tr>\n",
       "    <tr>\n",
       "      <th>0.75</th>\n",
       "      <td>81.0</td>\n",
       "    </tr>\n",
       "  </tbody>\n",
       "</table>\n",
       "</div>"
      ],
      "text/plain": [
       "         0\n",
       "0.25  42.0\n",
       "0.50  67.5\n",
       "0.75  81.0"
      ]
     },
     "execution_count": 113,
     "metadata": {},
     "output_type": "execute_result"
    }
   ],
   "source": [
    "pd.DataFrame(x).quantile([.25, .50, .75])"
   ]
  },
  {
   "cell_type": "code",
   "execution_count": 114,
   "id": "5e590e9b",
   "metadata": {},
   "outputs": [
    {
     "data": {
      "text/html": [
       "<div>\n",
       "<style scoped>\n",
       "    .dataframe tbody tr th:only-of-type {\n",
       "        vertical-align: middle;\n",
       "    }\n",
       "\n",
       "    .dataframe tbody tr th {\n",
       "        vertical-align: top;\n",
       "    }\n",
       "\n",
       "    .dataframe thead th {\n",
       "        text-align: right;\n",
       "    }\n",
       "</style>\n",
       "<table border=\"1\" class=\"dataframe\">\n",
       "  <thead>\n",
       "    <tr style=\"text-align: right;\">\n",
       "      <th></th>\n",
       "      <th>0</th>\n",
       "    </tr>\n",
       "  </thead>\n",
       "  <tbody>\n",
       "    <tr>\n",
       "      <th>count</th>\n",
       "      <td>20.000000</td>\n",
       "    </tr>\n",
       "    <tr>\n",
       "      <th>mean</th>\n",
       "      <td>65.300000</td>\n",
       "    </tr>\n",
       "    <tr>\n",
       "      <th>std</th>\n",
       "      <td>31.624607</td>\n",
       "    </tr>\n",
       "    <tr>\n",
       "      <th>min</th>\n",
       "      <td>17.000000</td>\n",
       "    </tr>\n",
       "    <tr>\n",
       "      <th>25%</th>\n",
       "      <td>42.000000</td>\n",
       "    </tr>\n",
       "    <tr>\n",
       "      <th>50%</th>\n",
       "      <td>67.500000</td>\n",
       "    </tr>\n",
       "    <tr>\n",
       "      <th>75%</th>\n",
       "      <td>81.000000</td>\n",
       "    </tr>\n",
       "    <tr>\n",
       "      <th>max</th>\n",
       "      <td>150.000000</td>\n",
       "    </tr>\n",
       "  </tbody>\n",
       "</table>\n",
       "</div>"
      ],
      "text/plain": [
       "                0\n",
       "count   20.000000\n",
       "mean    65.300000\n",
       "std     31.624607\n",
       "min     17.000000\n",
       "25%     42.000000\n",
       "50%     67.500000\n",
       "75%     81.000000\n",
       "max    150.000000"
      ]
     },
     "execution_count": 114,
     "metadata": {},
     "output_type": "execute_result"
    }
   ],
   "source": [
    "pd.DataFrame(x).describe()"
   ]
  },
  {
   "cell_type": "code",
   "execution_count": 140,
   "id": "c2c0ad5f",
   "metadata": {},
   "outputs": [
    {
     "name": "stdout",
     "output_type": "stream",
     "text": [
      "Интерквантильное расстояние равно 39\n"
     ]
    }
   ],
   "source": [
    "iqr = 81-42\n",
    "print(f'Интерквантильное расстояние равно {iqr}')"
   ]
  },
  {
   "cell_type": "code",
   "execution_count": null,
   "id": "6849f175",
   "metadata": {},
   "outputs": [],
   "source": []
  }
 ],
 "metadata": {
  "kernelspec": {
   "display_name": "Python 3 (ipykernel)",
   "language": "python",
   "name": "python3"
  },
  "language_info": {
   "codemirror_mode": {
    "name": "ipython",
    "version": 3
   },
   "file_extension": ".py",
   "mimetype": "text/x-python",
   "name": "python",
   "nbconvert_exporter": "python",
   "pygments_lexer": "ipython3",
   "version": "3.9.13"
  }
 },
 "nbformat": 4,
 "nbformat_minor": 5
}
